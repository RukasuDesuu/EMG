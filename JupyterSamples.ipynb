{
 "cells": [
  {
   "attachments": {},
   "cell_type": "markdown",
   "metadata": {},
   "source": [
    "Incluindo Bibliotecas"
   ]
  },
  {
   "cell_type": "code",
   "execution_count": 1,
   "metadata": {},
   "outputs": [],
   "source": [
    "import pandas as pd\n",
    "import matplotlib"
   ]
  },
  {
   "attachments": {},
   "cell_type": "markdown",
   "metadata": {},
   "source": [
    "## Lendo dados da amostra com Intensidade"
   ]
  },
  {
   "cell_type": "code",
   "execution_count": 2,
   "metadata": {},
   "outputs": [],
   "source": [
    "path = '.\\SampleIntensity\\\\'"
   ]
  },
  {
   "cell_type": "code",
   "execution_count": 5,
   "metadata": {},
   "outputs": [],
   "source": [
    "def StdSample(peso:int):\n",
    "    a = []\n",
    "    amm = []\n",
    "    for i in range (3):\n",
    "        a.append(pd.read_csv(path + 'amostra'+ str(peso)+'kg_'+str(i)+'.csv', header=None, nrows = 1000))\n",
    "    for i in range(3):\n",
    "        amm.append(a[i].rolling(17).mean())\n",
    "        \n",
    "    for i in range(3):\n",
    "        print('Desvio Padrao Amostra ' + str(i) + ': ' + str(amm[i].std()))"
   ]
  },
  {
   "cell_type": "code",
   "execution_count": 6,
   "metadata": {},
   "outputs": [
    {
     "name": "stdout",
     "output_type": "stream",
     "text": [
      "Desvio Padrao Amostra 0: 0    123.76523\n",
      "dtype: float64\n",
      "Desvio Padrao Amostra 1: 0    68.519672\n",
      "dtype: float64\n",
      "Desvio Padrao Amostra 2: 0    76.153788\n",
      "dtype: float64\n"
     ]
    }
   ],
   "source": [
    "StdSample(1)"
   ]
  },
  {
   "cell_type": "code",
   "execution_count": 7,
   "metadata": {},
   "outputs": [
    {
     "name": "stdout",
     "output_type": "stream",
     "text": [
      "Desvio Padrao Amostra 0: 0    120.884687\n",
      "dtype: float64\n",
      "Desvio Padrao Amostra 1: 0    110.516767\n",
      "dtype: float64\n",
      "Desvio Padrao Amostra 2: 0    123.71175\n",
      "dtype: float64\n"
     ]
    }
   ],
   "source": [
    "StdSample(2)"
   ]
  },
  {
   "cell_type": "code",
   "execution_count": 8,
   "metadata": {},
   "outputs": [
    {
     "name": "stdout",
     "output_type": "stream",
     "text": [
      "Desvio Padrao Amostra 0: 0    164.28423\n",
      "dtype: float64\n",
      "Desvio Padrao Amostra 1: 0    129.681499\n",
      "dtype: float64\n",
      "Desvio Padrao Amostra 2: 0    147.826615\n",
      "dtype: float64\n"
     ]
    }
   ],
   "source": [
    "StdSample(3)"
   ]
  },
  {
   "cell_type": "code",
   "execution_count": 9,
   "metadata": {},
   "outputs": [
    {
     "name": "stdout",
     "output_type": "stream",
     "text": [
      "Desvio Padrao Amostra 0: 0    290.968669\n",
      "dtype: float64\n",
      "Desvio Padrao Amostra 1: 0    320.57829\n",
      "dtype: float64\n",
      "Desvio Padrao Amostra 2: 0    272.54443\n",
      "dtype: float64\n"
     ]
    }
   ],
   "source": [
    "StdSample(4)"
   ]
  },
  {
   "cell_type": "code",
   "execution_count": 10,
   "metadata": {},
   "outputs": [
    {
     "name": "stdout",
     "output_type": "stream",
     "text": [
      "Desvio Padrao Amostra 0: 0    365.192054\n",
      "dtype: float64\n",
      "Desvio Padrao Amostra 1: 0    384.681785\n",
      "dtype: float64\n",
      "Desvio Padrao Amostra 2: 0    435.616142\n",
      "dtype: float64\n"
     ]
    }
   ],
   "source": [
    "StdSample(5)"
   ]
  },
  {
   "cell_type": "code",
   "execution_count": 11,
   "metadata": {},
   "outputs": [
    {
     "name": "stdout",
     "output_type": "stream",
     "text": [
      "Desvio Padrao Amostra 0: 0    538.417814\n",
      "dtype: float64\n",
      "Desvio Padrao Amostra 1: 0    587.00415\n",
      "dtype: float64\n",
      "Desvio Padrao Amostra 2: 0    509.874582\n",
      "dtype: float64\n"
     ]
    }
   ],
   "source": [
    "StdSample(6)"
   ]
  }
 ],
 "metadata": {
  "kernelspec": {
   "display_name": "Python 3",
   "language": "python",
   "name": "python3"
  },
  "language_info": {
   "codemirror_mode": {
    "name": "ipython",
    "version": 3
   },
   "file_extension": ".py",
   "mimetype": "text/x-python",
   "name": "python",
   "nbconvert_exporter": "python",
   "pygments_lexer": "ipython3",
   "version": "3.10.0"
  },
  "orig_nbformat": 4
 },
 "nbformat": 4,
 "nbformat_minor": 2
}
