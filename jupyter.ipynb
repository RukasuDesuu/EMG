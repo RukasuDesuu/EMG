{
 "cells": [
  {
   "attachments": {},
   "cell_type": "markdown",
   "metadata": {},
   "source": [
    "Incluindo Bibliotecas"
   ]
  },
  {
   "cell_type": "code",
   "execution_count": 2,
   "metadata": {},
   "outputs": [],
   "source": [
    "import pandas as pd\n",
    "import numpy as np"
   ]
  },
  {
   "attachments": {},
   "cell_type": "markdown",
   "metadata": {},
   "source": [
    "## Teste de uma série de amostras"
   ]
  },
  {
   "attachments": {},
   "cell_type": "markdown",
   "metadata": {},
   "source": [
    "Lendo o CSV das amostras"
   ]
  },
  {
   "cell_type": "code",
   "execution_count": 5,
   "metadata": {},
   "outputs": [],
   "source": [
    "sampleSA = []\n",
    "sampleCA = []\n",
    "sampleSAMM = []\n",
    "sampleCAMM = []\n",
    "for y in range(2):\n",
    "    for x in range (10):\n",
    "        sampleSA.append(pd.read_csv('.\\SampleAD8232_subject'+ str(y) +'\\\\amostraSemAtividade_'+ str(x) +'.csv',  header = None, nrows= 1000))\n",
    "        sampleCA.append(pd.read_csv('.\\SampleAD8232_subject'+ str(y) +'\\\\amostraComAtividade_'+ str(x) +'.csv',  header = None, nrows = 1000))\n",
    "for i in range(20):\n",
    "    sampleSAMM.append(sampleSA[i].rolling(17).mean())\n",
    "    sampleCAMM.append(sampleCA[i].rolling(17).mean())"
   ]
  },
  {
   "cell_type": "code",
   "execution_count": 6,
   "metadata": {},
   "outputs": [
    {
     "name": "stdout",
     "output_type": "stream",
     "text": [
      "Sem media movel:\n",
      "desvpad SA0    8.437646\n",
      "dtype: float64\n",
      "desvpad CA0    505.236208\n",
      "dtype: float64\n",
      "Com media movel:\n",
      "desvpad SA0    5.179148\n",
      "dtype: float64\n",
      "desvpad CA0    405.659803\n",
      "dtype: float64\n",
      "\n",
      "Sem media movel:\n",
      "desvpad SA0    9.249079\n",
      "dtype: float64\n",
      "desvpad CA0    540.915564\n",
      "dtype: float64\n",
      "Com media movel:\n",
      "desvpad SA0    6.15432\n",
      "dtype: float64\n",
      "desvpad CA0    403.704975\n",
      "dtype: float64\n",
      "\n",
      "Sem media movel:\n",
      "desvpad SA0    11.538051\n",
      "dtype: float64\n",
      "desvpad CA0    478.466379\n",
      "dtype: float64\n",
      "Com media movel:\n",
      "desvpad SA0    5.906282\n",
      "dtype: float64\n",
      "desvpad CA0    296.044642\n",
      "dtype: float64\n",
      "\n",
      "Sem media movel:\n",
      "desvpad SA0    22.838169\n",
      "dtype: float64\n",
      "desvpad CA0    602.259534\n",
      "dtype: float64\n",
      "Com media movel:\n",
      "desvpad SA0    10.778614\n",
      "dtype: float64\n",
      "desvpad CA0    357.02106\n",
      "dtype: float64\n",
      "\n",
      "Sem media movel:\n",
      "desvpad SA0    38.027797\n",
      "dtype: float64\n",
      "desvpad CA0    805.409994\n",
      "dtype: float64\n",
      "Com media movel:\n",
      "desvpad SA0    7.839029\n",
      "dtype: float64\n",
      "desvpad CA0    424.732754\n",
      "dtype: float64\n",
      "\n",
      "Sem media movel:\n",
      "desvpad SA0    113.077445\n",
      "dtype: float64\n",
      "desvpad CA0    564.517973\n",
      "dtype: float64\n",
      "Com media movel:\n",
      "desvpad SA0    93.33915\n",
      "dtype: float64\n",
      "desvpad CA0    318.861455\n",
      "dtype: float64\n",
      "\n",
      "Sem media movel:\n",
      "desvpad SA0    58.93883\n",
      "dtype: float64\n",
      "desvpad CA0    808.876276\n",
      "dtype: float64\n",
      "Com media movel:\n",
      "desvpad SA0    5.698814\n",
      "dtype: float64\n",
      "desvpad CA0    593.122298\n",
      "dtype: float64\n",
      "\n",
      "Sem media movel:\n",
      "desvpad SA0    8.525861\n",
      "dtype: float64\n",
      "desvpad CA0    862.934158\n",
      "dtype: float64\n",
      "Com media movel:\n",
      "desvpad SA0    4.593668\n",
      "dtype: float64\n",
      "desvpad CA0    484.944676\n",
      "dtype: float64\n",
      "\n",
      "Sem media movel:\n",
      "desvpad SA0    7.934395\n",
      "dtype: float64\n",
      "desvpad CA0    1024.052636\n",
      "dtype: float64\n",
      "Com media movel:\n",
      "desvpad SA0    4.275108\n",
      "dtype: float64\n",
      "desvpad CA0    664.243955\n",
      "dtype: float64\n",
      "\n",
      "Sem media movel:\n",
      "desvpad SA0    35.378903\n",
      "dtype: float64\n",
      "desvpad CA0    1029.649835\n",
      "dtype: float64\n",
      "Com media movel:\n",
      "desvpad SA0    28.201334\n",
      "dtype: float64\n",
      "desvpad CA0    771.26755\n",
      "dtype: float64\n",
      "\n",
      "Sem media movel:\n",
      "desvpad SA0    32.409097\n",
      "dtype: float64\n",
      "desvpad CA0    969.570638\n",
      "dtype: float64\n",
      "Com media movel:\n",
      "desvpad SA0    28.568185\n",
      "dtype: float64\n",
      "desvpad CA0    446.969918\n",
      "dtype: float64\n",
      "\n",
      "Sem media movel:\n",
      "desvpad SA0    40.965424\n",
      "dtype: float64\n",
      "desvpad CA0    847.308358\n",
      "dtype: float64\n",
      "Com media movel:\n",
      "desvpad SA0    24.155193\n",
      "dtype: float64\n",
      "desvpad CA0    441.268412\n",
      "dtype: float64\n",
      "\n",
      "Sem media movel:\n",
      "desvpad SA0    36.049257\n",
      "dtype: float64\n",
      "desvpad CA0    218.806738\n",
      "dtype: float64\n",
      "Com media movel:\n",
      "desvpad SA0    9.631286\n",
      "dtype: float64\n",
      "desvpad CA0    154.711873\n",
      "dtype: float64\n",
      "\n",
      "Sem media movel:\n",
      "desvpad SA0    21.726857\n",
      "dtype: float64\n",
      "desvpad CA0    1142.664184\n",
      "dtype: float64\n",
      "Com media movel:\n",
      "desvpad SA0    15.274692\n",
      "dtype: float64\n",
      "desvpad CA0    613.884082\n",
      "dtype: float64\n",
      "\n",
      "Sem media movel:\n",
      "desvpad SA0    20.681867\n",
      "dtype: float64\n",
      "desvpad CA0    1141.395431\n",
      "dtype: float64\n",
      "Com media movel:\n",
      "desvpad SA0    15.188706\n",
      "dtype: float64\n",
      "desvpad CA0    585.890985\n",
      "dtype: float64\n",
      "\n",
      "Sem media movel:\n",
      "desvpad SA0    37.122264\n",
      "dtype: float64\n",
      "desvpad CA0    1301.135331\n",
      "dtype: float64\n",
      "Com media movel:\n",
      "desvpad SA0    32.919368\n",
      "dtype: float64\n",
      "desvpad CA0    664.73529\n",
      "dtype: float64\n",
      "\n",
      "Sem media movel:\n",
      "desvpad SA0    33.244256\n",
      "dtype: float64\n",
      "desvpad CA0    1164.727273\n",
      "dtype: float64\n",
      "Com media movel:\n",
      "desvpad SA0    29.821409\n",
      "dtype: float64\n",
      "desvpad CA0    605.618672\n",
      "dtype: float64\n",
      "\n",
      "Sem media movel:\n",
      "desvpad SA0    50.171428\n",
      "dtype: float64\n",
      "desvpad CA0    1083.695331\n",
      "dtype: float64\n",
      "Com media movel:\n",
      "desvpad SA0    34.771939\n",
      "dtype: float64\n",
      "desvpad CA0    527.959187\n",
      "dtype: float64\n",
      "\n",
      "Sem media movel:\n",
      "desvpad SA0    36.446637\n",
      "dtype: float64\n",
      "desvpad CA0    1357.957522\n",
      "dtype: float64\n",
      "Com media movel:\n",
      "desvpad SA0    33.437578\n",
      "dtype: float64\n",
      "desvpad CA0    707.838755\n",
      "dtype: float64\n",
      "\n",
      "Sem media movel:\n",
      "desvpad SA0    22.196355\n",
      "dtype: float64\n",
      "desvpad CA0    1278.06043\n",
      "dtype: float64\n",
      "Com media movel:\n",
      "desvpad SA0    17.645445\n",
      "dtype: float64\n",
      "desvpad CA0    686.259587\n",
      "dtype: float64\n",
      "\n"
     ]
    }
   ],
   "source": [
    "for x in range(20):\n",
    "    print(\"Sem media movel:\")\n",
    "    print(\"desvpad SA\"+str(sampleSA[x].std()))\n",
    "    print(\"desvpad CA\"+str(sampleCA[x].std()))\n",
    "    print(\"Com media movel:\")\n",
    "    print(\"desvpad SA\"+str(sampleSAMM[x].std()))\n",
    "    print(\"desvpad CA\"+str(sampleCAMM[x].std()))\n",
    "    print()"
   ]
  },
  {
   "cell_type": "code",
   "execution_count": 7,
   "metadata": {},
   "outputs": [
    {
     "name": "stdout",
     "output_type": "stream",
     "text": [
      "471.9603169350571\n",
      "543.5136760171134\n"
     ]
    }
   ],
   "source": [
    "sample1CAstd = []\n",
    "sample2CAstd = []\n",
    "for i in range(10):\n",
    "    sample1CAstd.append(sampleCAMM[i].std())\n",
    "    sample2CAstd.append(sampleCAMM[i+10].std())\n",
    "print (np.mean(sample1CAstd))\n",
    "print (np.mean(sample2CAstd))"
   ]
  },
  {
   "attachments": {},
   "cell_type": "markdown",
   "metadata": {},
   "source": [
    "#### Calculando RMS"
   ]
  },
  {
   "cell_type": "code",
   "execution_count": 8,
   "metadata": {},
   "outputs": [
    {
     "ename": "NameError",
     "evalue": "name 'sampleComAtiv' is not defined",
     "output_type": "error",
     "traceback": [
      "\u001b[1;31m---------------------------------------------------------------------------\u001b[0m",
      "\u001b[1;31mNameError\u001b[0m                                 Traceback (most recent call last)",
      "Cell \u001b[1;32mIn[8], line 1\u001b[0m\n\u001b[1;32m----> 1\u001b[0m rms \u001b[39m=\u001b[39m np\u001b[39m.\u001b[39msqrt(np\u001b[39m.\u001b[39mmean((sampleComAtiv)\u001b[39m*\u001b[39m\u001b[39m*\u001b[39m\u001b[39m2\u001b[39m))\n\u001b[0;32m      2\u001b[0m \u001b[39mprint\u001b[39m(rms)\n",
      "\u001b[1;31mNameError\u001b[0m: name 'sampleComAtiv' is not defined"
     ]
    }
   ],
   "source": [
    "rms = np.sqrt(np.mean((sampleComAtiv)**2))\n",
    "print(rms)"
   ]
  },
  {
   "attachments": {},
   "cell_type": "markdown",
   "metadata": {},
   "source": [
    "## Teste Para Intensidade da atividade (pos elet 1)"
   ]
  },
  {
   "attachments": {},
   "cell_type": "markdown",
   "metadata": {},
   "source": [
    "### Amostra 1kg "
   ]
  },
  {
   "cell_type": "code",
   "execution_count": 44,
   "metadata": {},
   "outputs": [],
   "source": [
    "peso = 1\n",
    "a = []\n",
    "amm = []\n",
    "for i in range (3):\n",
    "    a.append(pd.read_csv('.\\SampleIntensity\\\\amostra'+ str(peso)+'kg_'+str(i)+'.csv', header=None, nrows = 1000))\n",
    "for i in range(3):\n",
    "    amm.append(a[i].rolling(17).mean())"
   ]
  },
  {
   "cell_type": "code",
   "execution_count": 45,
   "metadata": {},
   "outputs": [
    {
     "name": "stdout",
     "output_type": "stream",
     "text": [
      "Desvio Padrao Amostra 0: 0    7.785959\n",
      "dtype: float64\n",
      "Desvio Padrao Amostra 1: 0    5.685426\n",
      "dtype: float64\n",
      "Desvio Padrao Amostra 2: 0    6.677682\n",
      "dtype: float64\n"
     ]
    }
   ],
   "source": [
    "for i in range(3):\n",
    "    print('Desvio Padrao Amostra ' + str(i) + ': ' + str(amm[i].std()))"
   ]
  },
  {
   "attachments": {},
   "cell_type": "markdown",
   "metadata": {},
   "source": [
    "### Amostra de 2kg"
   ]
  },
  {
   "cell_type": "code",
   "execution_count": 48,
   "metadata": {},
   "outputs": [],
   "source": [
    "peso = 2\n",
    "b = []\n",
    "bmm = []\n",
    "for i in range (3):\n",
    "    b.append(pd.read_csv('.\\SampleIntensity\\\\amostra'+ str(peso)+'kg_'+str(i)+'.csv', header=None, nrows = 1000))\n",
    "for i in range(3):\n",
    "    bmm.append(b[i].rolling(17).mean())"
   ]
  },
  {
   "cell_type": "code",
   "execution_count": 49,
   "metadata": {},
   "outputs": [
    {
     "name": "stdout",
     "output_type": "stream",
     "text": [
      "Desvio Padrao Amostra 0: 0    3.591833\n",
      "dtype: float64\n",
      "Desvio Padrao Amostra 1: 0    3.706977\n",
      "dtype: float64\n",
      "Desvio Padrao Amostra 2: 0    7.408624\n",
      "dtype: float64\n"
     ]
    }
   ],
   "source": [
    "for i in range(3):\n",
    "    print('Desvio Padrao Amostra ' + str(i) + ': ' + str(bmm[i].std()))"
   ]
  },
  {
   "attachments": {},
   "cell_type": "markdown",
   "metadata": {},
   "source": [
    "### Amostra de 3kg"
   ]
  },
  {
   "cell_type": "code",
   "execution_count": 26,
   "metadata": {},
   "outputs": [],
   "source": [
    "peso = 3\n",
    "c = []\n",
    "cmm = []\n",
    "for i in range (3):\n",
    "    c.append(pd.read_csv('.\\SampleIntensity\\\\amostra'+ str(peso)+'kg_'+str(i)+'.csv', header=None, nrows = 1000))\n",
    "for i in range(3):\n",
    "    cmm.append(c[i].rolling(17).mean())"
   ]
  },
  {
   "cell_type": "code",
   "execution_count": 27,
   "metadata": {},
   "outputs": [
    {
     "name": "stdout",
     "output_type": "stream",
     "text": [
      "Desvio Padrao Amostra 0: 0    14.903681\n",
      "dtype: float64\n",
      "Desvio Padrao Amostra 1: 0    7.667663\n",
      "dtype: float64\n",
      "Desvio Padrao Amostra 2: 0    7.080573\n",
      "dtype: float64\n"
     ]
    }
   ],
   "source": [
    "for i in range(3):\n",
    "    print('Desvio Padrao Amostra ' + str(i) + ': ' + str(cmm[i].std()))"
   ]
  },
  {
   "attachments": {},
   "cell_type": "markdown",
   "metadata": {},
   "source": [
    "### Amostra de 4kg"
   ]
  },
  {
   "cell_type": "code",
   "execution_count": 28,
   "metadata": {},
   "outputs": [],
   "source": [
    "peso = 4\n",
    "d = []\n",
    "dmm = []\n",
    "for i in range (3):\n",
    "    d.append(pd.read_csv('.\\SampleIntensity\\\\amostra'+ str(peso)+'kg_'+str(i)+'.csv', header=None, nrows = 1000))\n",
    "for i in range(3):\n",
    "    dmm.append(d[i].rolling(17).mean())"
   ]
  },
  {
   "cell_type": "code",
   "execution_count": 29,
   "metadata": {},
   "outputs": [
    {
     "name": "stdout",
     "output_type": "stream",
     "text": [
      "Desvio Padrao Amostra 0: 0    6.624692\n",
      "dtype: float64\n",
      "Desvio Padrao Amostra 1: 0    6.622781\n",
      "dtype: float64\n",
      "Desvio Padrao Amostra 2: 0    6.915317\n",
      "dtype: float64\n"
     ]
    }
   ],
   "source": [
    "for i in range(3):\n",
    "    print('Desvio Padrao Amostra ' + str(i) + ': ' + str(dmm[i].std()))"
   ]
  },
  {
   "attachments": {},
   "cell_type": "markdown",
   "metadata": {},
   "source": [
    "### Amostra de 5kg"
   ]
  },
  {
   "cell_type": "code",
   "execution_count": 30,
   "metadata": {},
   "outputs": [],
   "source": [
    "peso = 5\n",
    "e = []\n",
    "emm = []\n",
    "for i in range (3):\n",
    "    e.append(pd.read_csv('.\\SampleIntensity\\\\amostra'+ str(peso)+'kg_'+str(i)+'.csv', header=None, nrows = 1000))\n",
    "for i in range(3):\n",
    "    emm.append(e[i].rolling(17).mean())"
   ]
  },
  {
   "cell_type": "code",
   "execution_count": 31,
   "metadata": {},
   "outputs": [
    {
     "name": "stdout",
     "output_type": "stream",
     "text": [
      "Desvio Padrao Amostra 0: 0    18.142959\n",
      "dtype: float64\n",
      "Desvio Padrao Amostra 1: 0    16.016546\n",
      "dtype: float64\n",
      "Desvio Padrao Amostra 2: 0    17.139873\n",
      "dtype: float64\n"
     ]
    }
   ],
   "source": [
    "for i in range(3):\n",
    "    print('Desvio Padrao Amostra ' + str(i) + ': ' + str(emm[i].std()))"
   ]
  },
  {
   "attachments": {},
   "cell_type": "markdown",
   "metadata": {},
   "source": [
    "### Amostra de 6kg"
   ]
  },
  {
   "cell_type": "code",
   "execution_count": 34,
   "metadata": {},
   "outputs": [],
   "source": [
    "peso = 6\n",
    "f = []\n",
    "fmm = []\n",
    "for i in range (3):\n",
    "    f.append(pd.read_csv('.\\SampleIntensity\\\\amostra'+ str(peso)+'kg_'+str(i)+'.csv', header=None, nrows = 1000))\n",
    "for i in range(3):\n",
    "    fmm.append(f[i].rolling(17).mean())"
   ]
  },
  {
   "cell_type": "code",
   "execution_count": 35,
   "metadata": {},
   "outputs": [
    {
     "name": "stdout",
     "output_type": "stream",
     "text": [
      "Desvio Padrao Amostra 0: 0    15.751603\n",
      "dtype: float64\n",
      "Desvio Padrao Amostra 1: 0    15.234226\n",
      "dtype: float64\n",
      "Desvio Padrao Amostra 2: 0    15.224916\n",
      "dtype: float64\n"
     ]
    }
   ],
   "source": [
    "for i in range(3):\n",
    "    print('Desvio Padrao Amostra ' + str(i) + ': ' + str(fmm[i].std()))"
   ]
  },
  {
   "attachments": {},
   "cell_type": "markdown",
   "metadata": {},
   "source": [
    "### Amostra de 7kg"
   ]
  },
  {
   "cell_type": "code",
   "execution_count": 36,
   "metadata": {},
   "outputs": [],
   "source": [
    "peso = 7\n",
    "g = []\n",
    "gmm = []\n",
    "for i in range (3):\n",
    "    g.append(pd.read_csv('.\\SampleIntensity\\\\amostra'+ str(peso)+'kg_'+str(i)+'.csv', header=None, nrows = 1000))\n",
    "for i in range(3):\n",
    "    gmm.append(g[i].rolling(17).mean())"
   ]
  },
  {
   "cell_type": "code",
   "execution_count": 37,
   "metadata": {},
   "outputs": [
    {
     "name": "stdout",
     "output_type": "stream",
     "text": [
      "Desvio Padrao Amostra 0: 0    18.634685\n",
      "dtype: float64\n",
      "Desvio Padrao Amostra 1: 0    31.062033\n",
      "dtype: float64\n",
      "Desvio Padrao Amostra 2: 0    38.276469\n",
      "dtype: float64\n"
     ]
    }
   ],
   "source": [
    "for i in range(3):\n",
    "    print('Desvio Padrao Amostra ' + str(i) + ': ' + str(gmm[i].std()))"
   ]
  },
  {
   "attachments": {},
   "cell_type": "markdown",
   "metadata": {},
   "source": [
    "### Amostra 11kg"
   ]
  },
  {
   "cell_type": "code",
   "execution_count": 52,
   "metadata": {},
   "outputs": [
    {
     "name": "stdout",
     "output_type": "stream",
     "text": [
      "Desvio Padrao da Amostra: 0    8.805834\n",
      "dtype: float64\n"
     ]
    }
   ],
   "source": [
    "h = pd.read_csv('.\\SampleIntensity\\\\amostra11kg_1.csv', header=None,)\n",
    "hmm = h.rolling(17).mean()\n",
    "print ('Desvio Padrao da Amostra: '+str(hmm.std()))"
   ]
  },
  {
   "attachments": {},
   "cell_type": "markdown",
   "metadata": {},
   "source": [
    "## Teste pos2"
   ]
  },
  {
   "cell_type": "code",
   "execution_count": 3,
   "metadata": {},
   "outputs": [
    {
     "name": "stdout",
     "output_type": "stream",
     "text": [
      "Desvio Padrao da Amostra: 0    10.13557\n",
      "dtype: float64\n"
     ]
    }
   ],
   "source": [
    "h1 = pd.read_csv('testeca.csv', header=None,nrows = 1000) #.\\SampleIntensity2\\\\amostra11kg_0\n",
    "h1mm = h1.rolling(17).mean()\n",
    "print ('Desvio Padrao da Amostra: '+str(h1mm.std()))"
   ]
  },
  {
   "cell_type": "code",
   "execution_count": 9,
   "metadata": {},
   "outputs": [
    {
     "data": {
      "text/plain": [
       "<Axes: >"
      ]
     },
     "execution_count": 9,
     "metadata": {},
     "output_type": "execute_result"
    },
    {
     "data": {
      "image/png": "[encoded data removed]",
      "text/plain": [
       "<Figure size 640x480 with 1 Axes>"
      ]
     },
     "metadata": {},
     "output_type": "display_data"
    },
    {
     "data": {
      "image/png": "[encoded data removed]",
      "text/plain": [
       "<Figure size 640x480 with 1 Axes>"
      ]
     },
     "metadata": {},
     "output_type": "display_data"
    }
   ],
   "source": [
    "h1mm.plot()\n",
    "sampleCAMM[1].plot()"
   ]
  },
  {
   "attachments": {},
   "cell_type": "markdown",
   "metadata": {},
   "source": []
  }
 ],
 "metadata": {
  "kernelspec": {
   "display_name": "Python 3",
   "language": "python",
   "name": "python3"
  },
  "language_info": {
   "codemirror_mode": {
    "name": "ipython",
    "version": 3
   },
   "file_extension": ".py",
   "mimetype": "text/x-python",
   "name": "python",
   "nbconvert_exporter": "python",
   "pygments_lexer": "ipython3",
   "version": "3.10.0"
  },
  "orig_nbformat": 4
 },
 "nbformat": 4,
 "nbformat_minor": 2
}
