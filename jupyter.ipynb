{
 "cells": [
  {
   "attachments": {},
   "cell_type": "markdown",
   "metadata": {},
   "source": [
    "Incluindo Bibliotecas"
   ]
  },
  {
   "cell_type": "code",
   "execution_count": 2,
   "metadata": {},
   "outputs": [],
   "source": [
    "import pandas as pd\n",
    "import numpy as np"
   ]
  },
  {
   "attachments": {},
   "cell_type": "markdown",
   "metadata": {},
   "source": [
    "## DesvPad Tests"
   ]
  },
  {
   "attachments": {},
   "cell_type": "markdown",
   "metadata": {},
   "source": [
    "Lendo o CSV das amostras"
   ]
  },
  {
   "cell_type": "code",
   "execution_count": 3,
   "metadata": {},
   "outputs": [],
   "source": [
    "sampleSA = []\n",
    "sampleCA = []\n",
    "sampleSAMM = []\n",
    "sampleCAMM = []\n",
    "for y in range(2):\n",
    "    for x in range (10):\n",
    "        sampleSA.append(pd.read_csv('.\\SampleAD8232_subject'+ str(y) +'\\\\amostraSemAtividade_'+ str(x) +'.csv',  header = None, nrows= 1000))\n",
    "        sampleCA.append(pd.read_csv('.\\SampleAD8232_subject'+ str(y) +'\\\\amostraComAtividade_'+ str(x) +'.csv',  header = None, nrows = 1000))\n",
    "for i in range(20):\n",
    "    sampleSAMM.append(sampleSA[i].rolling(17).mean())\n",
    "    sampleCAMM.append(sampleCA[i].rolling(17).mean())"
   ]
  },
  {
   "cell_type": "code",
   "execution_count": null,
   "metadata": {},
   "outputs": [],
   "source": [
    "for x in range(20):\n",
    "    print(\"Sem media movel:\")\n",
    "    print(\"desvpad SA\"+str(sampleSA[x].std()))\n",
    "    print(\"desvpad CA\"+str(sampleCA[x].std()))\n",
    "    print(\"Com media movel:\")\n",
    "    print(\"desvpad SA\"+str(sampleSAMM[x].std()))\n",
    "    print(\"desvpad CA\"+str(sampleCAMM[x].std()))\n",
    "    print()"
   ]
  },
  {
   "cell_type": "code",
   "execution_count": 6,
   "metadata": {},
   "outputs": [
    {
     "name": "stdout",
     "output_type": "stream",
     "text": [
      "471.9603169350571\n",
      "543.5136760171134\n"
     ]
    }
   ],
   "source": [
    "sample1CAstd = []\n",
    "sample2CAstd = []\n",
    "for i in range(10):\n",
    "    sample1CAstd.append(sampleCAMM[i].std())\n",
    "    sample2CAstd.append(sampleCAMM[i+10].std())\n",
    "print (np.mean(sample1CAstd))\n",
    "print (np.mean(sample2CAstd))"
   ]
  },
  {
   "attachments": {},
   "cell_type": "markdown",
   "metadata": {},
   "source": [
    "#### Calculando RMS"
   ]
  },
  {
   "cell_type": "code",
   "execution_count": 76,
   "metadata": {},
   "outputs": [
    {
     "name": "stdout",
     "output_type": "stream",
     "text": [
      "1835.8194701549496\n"
     ]
    }
   ],
   "source": [
    "rms = np.sqrt(np.mean((sampleComAtiv)**2))\n",
    "print(rms)"
   ]
  },
  {
   "attachments": {},
   "cell_type": "markdown",
   "metadata": {},
   "source": [
    "## Teste Para Intensidade da atividade"
   ]
  },
  {
   "cell_type": "code",
   "execution_count": null,
   "metadata": {},
   "outputs": [],
   "source": [
    "aa"
   ]
  }
 ],
 "metadata": {
  "kernelspec": {
   "display_name": "Python 3",
   "language": "python",
   "name": "python3"
  },
  "language_info": {
   "codemirror_mode": {
    "name": "ipython",
    "version": 3
   },
   "file_extension": ".py",
   "mimetype": "text/x-python",
   "name": "python",
   "nbconvert_exporter": "python",
   "pygments_lexer": "ipython3",
   "version": "3.10.0"
  },
  "orig_nbformat": 4
 },
 "nbformat": 4,
 "nbformat_minor": 2
}
