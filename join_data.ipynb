{
 "cells": [
  {
   "cell_type": "code",
   "execution_count": 1,
   "metadata": {},
   "outputs": [],
   "source": [
    "import pandas as pd\n",
    "import glob"
   ]
  },
  {
   "cell_type": "code",
   "execution_count": 5,
   "metadata": {},
   "outputs": [],
   "source": [
    "folders = [\"sub0\", \"sub1\", \"sub2\", \"sub3\", \"sub4\", \"sub5\", \"sub6\", \"sub7\", \"sub8\"]\n",
    "all_data = pd.DataFrame(columns=[\"id\", \"emg\", \"label\"])\n",
    "file_names = []\n",
    "emg = []\n",
    "label = []\n",
    "for sub in folders:\n",
    "    for file in glob.glob(\"26_08_23/{}/*.csv\".format(sub)):\n",
    "        data = pd.read_csv(file, header=None)\n",
    "        file_name = file[-14:-4]\n",
    "        file_names.append(sub + \"_\" + file_name)\n",
    "        emg.append(data[0].values)\n",
    "        label.append(int(file[-7:-6]))\n",
    "    \n",
    "all_data[\"id\"] = file_names\n",
    "all_data[\"emg\"] = emg\n",
    "all_data[\"label\"] = label\n"
   ]
  },
  {
   "cell_type": "code",
   "execution_count": 6,
   "metadata": {},
   "outputs": [],
   "source": [
    "all_data.to_csv(\"data_joined.csv\")"
   ]
  },
  {
   "cell_type": "code",
   "execution_count": 7,
   "metadata": {},
   "outputs": [
    {
     "name": "stdout",
     "output_type": "stream",
     "text": [
      "                 id                                                emg  label\n",
      "0   sub0_amostra0_0  [1877, 1903, 1872, 1875, 1888, 1911, 1911, 187...      0\n",
      "1   sub0_amostra0_1  [1806, 1808, 1840, 1839, 1833, 1807, 1800, 180...      0\n",
      "2   sub0_amostra0_2  [1879, 1859, 1862, 1863, 1841, 1813, 1818, 181...      0\n",
      "3   sub0_amostra0_3  [1946, 2036, 2032, 1923, 1926, 1925, 1926, 192...      0\n",
      "4   sub0_amostra1_0  [1951, 2041, 1939, 1923, 1903, 1906, 1930, 190...      1\n",
      "..              ...                                                ...    ...\n",
      "67  sub8_amostra0_3  [1855, 1856, 1844, 1834, 1857, 1838, 1898, 184...      0\n",
      "68  sub8_amostra1_0  [1749, 1614, 1550, 1417, 1286, 1136, 1061, 101...      1\n",
      "69  sub8_amostra1_1  [1417, 1389, 1297, 1195, 1138, 1161, 1104, 111...      1\n",
      "70  sub8_amostra1_2  [2023, 2095, 2058, 2057, 2063, 1991, 1909, 181...      1\n",
      "71  sub8_amostra1_3  [1781, 1717, 1623, 1634, 1616, 1569, 1616, 161...      1\n",
      "\n",
      "[72 rows x 3 columns]\n"
     ]
    }
   ],
   "source": [
    "print(all_data)"
   ]
  }
 ],
 "metadata": {
  "kernelspec": {
   "display_name": "emg",
   "language": "python",
   "name": "python3"
  },
  "language_info": {
   "codemirror_mode": {
    "name": "ipython",
    "version": 3
   },
   "file_extension": ".py",
   "mimetype": "text/x-python",
   "name": "python",
   "nbconvert_exporter": "python",
   "pygments_lexer": "ipython3",
   "version": "3.11.5"
  },
  "orig_nbformat": 4
 },
 "nbformat": 4,
 "nbformat_minor": 2
}
