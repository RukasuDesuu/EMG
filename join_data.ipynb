{
 "cells": [
  {
   "cell_type": "code",
   "execution_count": 1,
   "metadata": {},
   "outputs": [],
   "source": [
    "import pandas as pd\n",
    "import glob"
   ]
  },
  {
   "cell_type": "code",
   "execution_count": 6,
   "metadata": {},
   "outputs": [],
   "source": [
    "data_joined = pd.DataFrame()\n",
    "list_data = [] \n",
    "label_list = []\n",
    "id_list = []\n",
    "subs = [\"sub0\", \"sub1\", \"sub2\", \"sub3\", \"sub4\", \"sub5\", \"sub6\", \"sub7\", \"sub8\"]\n",
    "\n",
    "for path in subs:\n",
    "    for sample in glob.glob (\"./26_08_23/{}/*.csv\".format(path)):\n",
    "        values = pd.read_csv(sample)\n",
    "        label_list.append(int(sample[-7:-6]))\n",
    "        list_data.append(values)\n",
    "        id_list.append(sample[-14:])\n",
    "\n",
    "data_joined[\"emg\"] = list_data\n",
    "data_joined[\"label\"] = label_list\n",
    "data_joined[\"_id\"] = id_list"
   ]
  },
  {
   "cell_type": "code",
   "execution_count": 8,
   "metadata": {},
   "outputs": [],
   "source": [
    "data_joined.to_csv(\"data_joined_2.csv\")"
   ]
  },
  {
   "cell_type": "code",
   "execution_count": null,
   "metadata": {},
   "outputs": [],
   "source": []
  }
 ],
 "metadata": {
  "kernelspec": {
   "display_name": ".venv",
   "language": "python",
   "name": "python3"
  },
  "language_info": {
   "codemirror_mode": {
    "name": "ipython",
    "version": 3
   },
   "file_extension": ".py",
   "mimetype": "text/x-python",
   "name": "python",
   "nbconvert_exporter": "python",
   "pygments_lexer": "ipython3",
   "version": "3.11.5"
  },
  "orig_nbformat": 4
 },
 "nbformat": 4,
 "nbformat_minor": 2
}
