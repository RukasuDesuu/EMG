{
 "cells": [
  {
   "attachments": {},
   "cell_type": "markdown",
   "metadata": {},
   "source": [
    "Incluindo Bibliotecas"
   ]
  },
  {
   "cell_type": "code",
   "execution_count": 1,
   "metadata": {},
   "outputs": [],
   "source": [
    "import pandas as pd\n",
    "import matplotlib"
   ]
  },
  {
   "attachments": {},
   "cell_type": "markdown",
   "metadata": {},
   "source": [
    "## Lendo dados da amostra com Intensidade"
   ]
  },
  {
   "cell_type": "code",
   "execution_count": 2,
   "metadata": {},
   "outputs": [],
   "source": [
    "path = '.\\SampleIntensity_J\\\\'"
   ]
  },
  {
   "cell_type": "code",
   "execution_count": 17,
   "metadata": {},
   "outputs": [],
   "source": [
    "def StdSample(peso:int):\n",
    "    a = []\n",
    "    amm = []\n",
    "    for i in range (3):\n",
    "        a.append(pd.read_csv(path + 'amostra'+ str(peso)+'kg_'+str(i)+'.csv', header=None, nrows = 1000))\n",
    "    for i in range(3):\n",
    "        amm.append(a[i].rolling(17).mean())\n",
    "        \n",
    "    for i in range(3):\n",
    "        print('Desvio Padrao Amostra ' + str(i) + ': ' + str(amm[i].std()))"
   ]
  },
  {
   "cell_type": "code",
   "execution_count": 18,
   "metadata": {},
   "outputs": [
    {
     "name": "stdout",
     "output_type": "stream",
     "text": [
      "Desvio Padrao Amostra 0: 0    182.788607\n",
      "dtype: float64\n",
      "Desvio Padrao Amostra 1: 0    178.473597\n",
      "dtype: float64\n",
      "Desvio Padrao Amostra 2: 0    129.524834\n",
      "dtype: float64\n"
     ]
    }
   ],
   "source": [
    "StdSample(1)"
   ]
  },
  {
   "cell_type": "code",
   "execution_count": 19,
   "metadata": {},
   "outputs": [
    {
     "name": "stdout",
     "output_type": "stream",
     "text": [
      "Desvio Padrao Amostra 0: 0    226.279094\n",
      "dtype: float64\n",
      "Desvio Padrao Amostra 1: 0    178.210136\n",
      "dtype: float64\n",
      "Desvio Padrao Amostra 2: 0    152.47907\n",
      "dtype: float64\n"
     ]
    }
   ],
   "source": [
    "StdSample(2)"
   ]
  },
  {
   "cell_type": "code",
   "execution_count": 21,
   "metadata": {},
   "outputs": [
    {
     "name": "stdout",
     "output_type": "stream",
     "text": [
      "Desvio Padrao Amostra 0: 0    212.258288\n",
      "dtype: float64\n",
      "Desvio Padrao Amostra 1: 0    246.280153\n",
      "dtype: float64\n",
      "Desvio Padrao Amostra 2: 0    178.290536\n",
      "dtype: float64\n"
     ]
    }
   ],
   "source": [
    "StdSample(3)"
   ]
  },
  {
   "cell_type": "code",
   "execution_count": 23,
   "metadata": {},
   "outputs": [
    {
     "name": "stdout",
     "output_type": "stream",
     "text": [
      "Desvio Padrao Amostra 0: 0    302.225015\n",
      "dtype: float64\n",
      "Desvio Padrao Amostra 1: 0    346.553105\n",
      "dtype: float64\n",
      "Desvio Padrao Amostra 2: 0    185.859203\n",
      "dtype: float64\n"
     ]
    }
   ],
   "source": [
    "StdSample(4)"
   ]
  },
  {
   "cell_type": "code",
   "execution_count": 24,
   "metadata": {},
   "outputs": [
    {
     "name": "stdout",
     "output_type": "stream",
     "text": [
      "Desvio Padrao Amostra 0: 0    304.229399\n",
      "dtype: float64\n",
      "Desvio Padrao Amostra 1: 0    1327.578226\n",
      "dtype: float64\n",
      "Desvio Padrao Amostra 2: 0    665.496005\n",
      "dtype: float64\n"
     ]
    }
   ],
   "source": [
    "StdSample(5)"
   ]
  },
  {
   "cell_type": "code",
   "execution_count": 25,
   "metadata": {},
   "outputs": [
    {
     "name": "stdout",
     "output_type": "stream",
     "text": [
      "Desvio Padrao Amostra 0: 0    1090.620666\n",
      "dtype: float64\n",
      "Desvio Padrao Amostra 1: 0    578.40232\n",
      "dtype: float64\n",
      "Desvio Padrao Amostra 2: 0    325.025361\n",
      "dtype: float64\n"
     ]
    }
   ],
   "source": [
    "StdSample(6)"
   ]
  }
 ],
 "metadata": {
  "kernelspec": {
   "display_name": "Python 3",
   "language": "python",
   "name": "python3"
  },
  "language_info": {
   "codemirror_mode": {
    "name": "ipython",
    "version": 3
   },
   "file_extension": ".py",
   "mimetype": "text/x-python",
   "name": "python",
   "nbconvert_exporter": "python",
   "pygments_lexer": "ipython3",
   "version": "3.7.3"
  },
  "orig_nbformat": 4
 },
 "nbformat": 4,
 "nbformat_minor": 2
}
